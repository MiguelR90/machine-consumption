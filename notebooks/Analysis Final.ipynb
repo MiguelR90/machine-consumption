{
 "cells": [
  {
   "cell_type": "code",
   "execution_count": 34,
   "id": "3d334b65",
   "metadata": {},
   "outputs": [],
   "source": [
    "from collections import Counter, defaultdict, deque\n",
    "from functools import partial\n",
    "from itertools import chain, cycle, product\n",
    "\n",
    "from joblib import Parallel, delayed\n",
    "\n",
    "import numpy as np"
   ]
  },
  {
   "cell_type": "code",
   "execution_count": 35,
   "id": "e0ff80ce",
   "metadata": {},
   "outputs": [],
   "source": [
    "# consider lanes with largest index first\n",
    "def lane_index_priority(lane_tuple, product=None, boxes=None):\n",
    "\n",
    "    if product is None or boxes is None:\n",
    "        raise RuntimeError(\"No product or boxes set\")\n",
    "\n",
    "    return (lane_tuple[0], -boxes[lane_tuple[0]])\n",
    "\n",
    "\n",
    "# consider lane with largest sum number of products first\n",
    "def sum_of_products_priority(lane_tuple, product=None, boxes=None):\n",
    "\n",
    "    if product is None or boxes is None:\n",
    "        raise RuntimeError(\"No product or boxes set\")\n",
    "\n",
    "    return (sum(lane_tuple[1].values()), -boxes[lane_tuple[0]])\n",
    "\n",
    "\n",
    "# consider lane with largest product count first, ex: largest number of As\n",
    "def product_count_priority(lane_tuple, product=None, boxes=None):\n",
    "\n",
    "    if product is None or boxes is None:\n",
    "        raise RuntimeError(\"No product or boxes set\")\n",
    "\n",
    "    return (lane_tuple[1][product], -boxes[lane_tuple[0]])\n",
    "\n",
    "\n",
    "# priority based on randomly generated numbers\n",
    "def random_priority(lane_tuple, product=None, boxes=None):\n",
    "\n",
    "    if product is None or boxes is None:\n",
    "        raise RuntimeError(\"No product or boxes set\")\n",
    "\n",
    "    return (np.random.rand(), -boxes[lane_tuple[0]])"
   ]
  },
  {
   "cell_type": "code",
   "execution_count": 36,
   "id": "2899c393",
   "metadata": {},
   "outputs": [],
   "source": [
    "def generate_sequential_batches(batch_size, recipe, sample_size):\n",
    "    products = list(recipe.keys())\n",
    "    totals = list(recipe.values())\n",
    "    num_of_batches = np.ceil(sample_size / batch_size).astype(int)\n",
    "\n",
    "    counts = dict(sorted(zip(products, totals), key=lambda x: x[1], reverse=True))\n",
    "\n",
    "    pattern = []\n",
    "    while 0 < sum(counts.values()):\n",
    "        for product in counts.keys():\n",
    "            if 0 < counts[product]:\n",
    "                pattern.append(product)\n",
    "                counts[product] -= 1\n",
    "\n",
    "    out = []\n",
    "    for index, product in zip(range(num_of_batches), cycle(pattern)):\n",
    "        out.append(product)\n",
    "\n",
    "    return out\n",
    "\n",
    "\n",
    "def generate_random_products(recipe, sample_size):\n",
    "    products = list(recipe.keys())\n",
    "    return np.random.choice(\n",
    "        products,\n",
    "        size=sample_size,\n",
    "        p=[t / sum(recipe.values()) for t in recipe.values()],\n",
    "    ).tolist()"
   ]
  },
  {
   "cell_type": "code",
   "execution_count": 62,
   "id": "4450686b",
   "metadata": {},
   "outputs": [],
   "source": [
    "recipes = [\n",
    "    {\"A\": 8, \"B\": 4, \"C\": 4, \"D\": 8, \"E\": 10, \"F\": 16},\n",
    "    {\"A\": 10, \"B\": 10, \"C\": 6, \"D\": 4},\n",
    "    {\"A\": 3, \"B\": 3, \"C\": 4, \"D\": 3, \"E\": 3, \"F\": 2},\n",
    "]\n",
    "batch_sizes = [25, 50, 100]\n",
    "sample_size = 30000\n",
    "lane_lock = 25\n",
    "priority = product_count_priority\n",
    "products_per_min = 250"
   ]
  },
  {
   "cell_type": "code",
   "execution_count": 63,
   "id": "c84c162f",
   "metadata": {},
   "outputs": [],
   "source": [
    "def create_infeed_types():\n",
    "    sequences = {}\n",
    "\n",
    "    for i, batch_size in product(range(len(recipes)), batch_sizes):\n",
    "        sequences[(i, \"sequential_batches\", batch_size)] = generate_sequential_batches(\n",
    "            batch_size, recipes[i], sample_size\n",
    "        )\n",
    "\n",
    "    for i, recipe in enumerate(recipes):\n",
    "        sequences[(i, \"random_products\", None)] = generate_random_products(\n",
    "            recipe, sample_size\n",
    "        )\n",
    "\n",
    "    return sequences\n",
    "\n",
    "\n",
    "sequences = create_infeed_types()"
   ]
  },
  {
   "cell_type": "code",
   "execution_count": null,
   "id": "9e7c24bc",
   "metadata": {},
   "outputs": [],
   "source": []
  },
  {
   "cell_type": "code",
   "execution_count": 64,
   "id": "86a2a3c3",
   "metadata": {},
   "outputs": [],
   "source": [
    "from numba import jit, njit\n",
    "import numpy as np"
   ]
  },
  {
   "cell_type": "code",
   "execution_count": 65,
   "id": "981d6777",
   "metadata": {},
   "outputs": [],
   "source": [
    "num_of_products = 6\n",
    "\n",
    "num_of_lanes = 5\n",
    "\n",
    "infeed = np.random.randint(num_of_products, size=sample_size)\n",
    "\n",
    "recipe = np.array([8, 4, 4, 8, 10, 16])"
   ]
  },
  {
   "cell_type": "code",
   "execution_count": 131,
   "id": "4770e253",
   "metadata": {
    "scrolled": true
   },
   "outputs": [],
   "source": [
    "@njit(cache=True)\n",
    "def np_all_axis1(x):\n",
    "    # Numba compatible version of np.all(x, axis=1)\n",
    "    out = np.ones(x.shape[0], dtype=np.bool8)\n",
    "    for i in range(x.shape[1]):\n",
    "        out = np.logical_and(out, x[:, i])\n",
    "    return out\n",
    "\n",
    "\n",
    "@njit(cache=True)\n",
    "def np_lexsort(x, y):\n",
    "    # Numba compatible version of np.lexsort((y,x))\n",
    "    values = sorted(zip(x, y, range(len(x))))\n",
    "    return np.array([v[-1] for v in values])\n",
    "\n",
    "\n",
    "@njit\n",
    "def simulate_fast(num_of_lanes, num_of_products, recipe, infeed):\n",
    "    # rows are lanes\n",
    "    # columns are products\n",
    "    # n, m := num_of_lanes, num_of_products\n",
    "    \n",
    "    # n x m := store the state of each lane with product counts\n",
    "    states = np.zeros((num_of_lanes, num_of_products))\n",
    "    \n",
    "    # n x 1 := store number of boxes produced per lane\n",
    "    production = np.zeros(num_of_lanes)\n",
    "    \n",
    "    # n x 1 := store lock value of a lane\n",
    "    locks = np.zeros(num_of_lanes)\n",
    "    \n",
    "    # count the amount of products that don't fit\n",
    "    recirculation = 0\n",
    "\n",
    "    # TODO := consider iterating over the infeed (no index)\n",
    "    for i in range(infeed.size):\n",
    "    \n",
    "        product = infeed[i]\n",
    "\n",
    "        # n x 1 := lanes that are unlocked and available to recieve\n",
    "        available = locks == 0\n",
    "\n",
    "        # n x 1 := lanes that have enough space to fit the product\n",
    "        fits = states[:,product] < recipe[product]\n",
    "\n",
    "        # n x 1 := lane indeces ordered by priority\n",
    "        # priority := highest product count, then lowest production\n",
    "        # order = np.lexsort((production, -states[:,product]))\n",
    "        order = np_lexsort(-states[:,product], production)\n",
    "        \n",
    "        # n x 1 := ordered boolean mask of available and fit lanes\n",
    "        # NOTE - can only be used if lanes are ordered\n",
    "        mask = (available & fits)[order]\n",
    "\n",
    "        if 0 < order[mask].size:\n",
    "            lane = order[mask][0]\n",
    "            states[lane,product] += 1\n",
    "            consumed = True\n",
    "        else:\n",
    "            recirculation += 1            \n",
    "\n",
    "        # decrease lock value for unavailable lanes\n",
    "        locks[~available] -= 1\n",
    "\n",
    "        # n x 1 := lanes that are ready for processing\n",
    "        # full = np.all(states == recipe, axis=1)\n",
    "        full = np_all_axis1(states == recipe)\n",
    "\n",
    "        # reset state, increase production value and set lane lock\n",
    "        states[full,:] = 0\n",
    "        production[full] += 1\n",
    "        locks[full] = 25\n",
    "        \n",
    "    return recirculation"
   ]
  },
  {
   "cell_type": "code",
   "execution_count": 132,
   "id": "6eef5bda",
   "metadata": {},
   "outputs": [
    {
     "name": "stdout",
     "output_type": "stream",
     "text": [
      "38.8 ms ± 506 µs per loop (mean ± std. dev. of 7 runs, 1 loop each)\n"
     ]
    }
   ],
   "source": [
    "%timeit simulate_fast(num_of_lanes, num_of_products, recipe, infeed)"
   ]
  },
  {
   "cell_type": "code",
   "execution_count": 133,
   "id": "ef4141ea",
   "metadata": {},
   "outputs": [
    {
     "name": "stdout",
     "output_type": "stream",
     "text": [
      "38.6 ms ± 95.6 µs per loop (mean ± std. dev. of 7 runs, 10 loops each)\n"
     ]
    }
   ],
   "source": [
    "%timeit simulate_fast(num_of_lanes, num_of_products, recipe, infeed)"
   ]
  },
  {
   "cell_type": "code",
   "execution_count": null,
   "id": "5cb4ca92",
   "metadata": {},
   "outputs": [],
   "source": []
  },
  {
   "cell_type": "code",
   "execution_count": null,
   "id": "77c41244",
   "metadata": {},
   "outputs": [],
   "source": []
  },
  {
   "cell_type": "code",
   "execution_count": null,
   "id": "c6143320",
   "metadata": {},
   "outputs": [],
   "source": []
  },
  {
   "cell_type": "code",
   "execution_count": null,
   "id": "4bc1ca60",
   "metadata": {},
   "outputs": [],
   "source": []
  },
  {
   "cell_type": "code",
   "execution_count": 100,
   "id": "55472751",
   "metadata": {},
   "outputs": [],
   "source": [
    "def simulate_numpy(num_of_lanes, num_of_products, recipe, infeed):\n",
    "    # rows are lanes\n",
    "    # columns are products\n",
    "    # n, m := num_of_lanes, num_of_products\n",
    "    \n",
    "    # n x m := store the state of each lane with product counts\n",
    "    states = np.zeros((num_of_lanes, num_of_products))\n",
    "    \n",
    "    # n x 1 := store number of boxes produced per lane\n",
    "    production = np.zeros(num_of_lanes)\n",
    "    \n",
    "    # n x 1 := store lock value of a lane\n",
    "    locks = np.zeros(num_of_lanes)\n",
    "    \n",
    "    # count the amount of products that don't fit\n",
    "    recirculation = 0\n",
    "\n",
    "    # TODO := consider iterating over the infeed (no index)\n",
    "    for i in range(infeed.size):\n",
    "\n",
    "        product = infeed[i]\n",
    "\n",
    "        # n x 1 := lanes that are unlocked and available to recieve\n",
    "        available = locks == 0\n",
    "\n",
    "        # n x 1 := lanes that have enough space to fit the product\n",
    "        fits = states[:,product] < recipe[product]\n",
    "\n",
    "        # n x 1 := lane indeces ordered by product count priority\n",
    "        # last key is 1st order, 2nd-to-last key is 2nd order, and so on\n",
    "        # highest product count, then lowest production\n",
    "        order = np.lexsort((production, -states[:,product]))\n",
    "        \n",
    "        # n x 1 := ordered boolean mask of available and fit lanes\n",
    "        # NOTE - can only be used if lanes are ordered\n",
    "        mask = (available & fits)[order]\n",
    "\n",
    "        if 0 < order[mask].size:\n",
    "            lane = order[mask][0]\n",
    "            states[lane,product] += 1\n",
    "        else:\n",
    "            recirculation += 1            \n",
    "\n",
    "        # decrease lock value for unavailable lanes\n",
    "        locks[~available] -= 1\n",
    "\n",
    "        # n x 1 := lanes that are ready for processing\n",
    "        full = np.all(states == recipe.reshape(1, -1), axis=1)\n",
    "\n",
    "        # reset state, increase production value and set lane lock\n",
    "        states[full,:] = 0\n",
    "        production[full] += 1\n",
    "        locks[full] = 25\n",
    "        \n",
    "    return recirculation"
   ]
  },
  {
   "cell_type": "code",
   "execution_count": 101,
   "id": "36ad8ff1",
   "metadata": {},
   "outputs": [
    {
     "name": "stdout",
     "output_type": "stream",
     "text": [
      "454 ms ± 2.36 ms per loop (mean ± std. dev. of 7 runs, 1 loop each)\n"
     ]
    }
   ],
   "source": [
    "%timeit simulate_numpy(num_of_lanes, num_of_products, recipe, infeed)"
   ]
  },
  {
   "cell_type": "code",
   "execution_count": 102,
   "id": "7b6375ed",
   "metadata": {},
   "outputs": [
    {
     "name": "stdout",
     "output_type": "stream",
     "text": [
      "465 ms ± 5.56 ms per loop (mean ± std. dev. of 7 runs, 1 loop each)\n"
     ]
    }
   ],
   "source": [
    "%timeit simulate_numpy(num_of_lanes, num_of_products, recipe, infeed)"
   ]
  },
  {
   "cell_type": "code",
   "execution_count": null,
   "id": "f74c0179",
   "metadata": {},
   "outputs": [],
   "source": []
  },
  {
   "cell_type": "code",
   "execution_count": null,
   "id": "0fef90e5",
   "metadata": {},
   "outputs": [],
   "source": []
  },
  {
   "cell_type": "code",
   "execution_count": 134,
   "id": "b62e9c83",
   "metadata": {},
   "outputs": [
    {
     "data": {
      "text/plain": [
       "3.1025641025641026"
      ]
     },
     "execution_count": 134,
     "metadata": {},
     "output_type": "execute_result"
    }
   ],
   "source": [
    "121 / 39"
   ]
  },
  {
   "cell_type": "code",
   "execution_count": null,
   "id": "b6e2fc65",
   "metadata": {},
   "outputs": [],
   "source": []
  },
  {
   "cell_type": "code",
   "execution_count": null,
   "id": "4bd7fadf",
   "metadata": {},
   "outputs": [],
   "source": []
  },
  {
   "cell_type": "code",
   "execution_count": 72,
   "id": "59ed42dd",
   "metadata": {},
   "outputs": [],
   "source": [
    "def simulate(num_of_lanes, infeed_type, recipe_index, batch_size=None):\n",
    "\n",
    "    # split recipes into products and totals\n",
    "    recipe = recipes[recipe_index]\n",
    "    products = list(recipe.keys())\n",
    "    totals = list(recipe.values())\n",
    "\n",
    "    # Initialize data containers\n",
    "    batch_order = []\n",
    "    lanes = {i: {p: 0 for p in products + [\"lock\"]} for i in range(num_of_lanes)}\n",
    "    boxes_per_lane = {i: 0 for i in range(num_of_lanes)}\n",
    "    boxes_per_lane_per_frame = {i: [] for i in range(num_of_lanes)}\n",
    "    recirculation = []\n",
    "\n",
    "    # Initialize product queue will get updated based on infeed system\n",
    "    product_queue = deque()\n",
    "\n",
    "    # init product queue base on infeed type\n",
    "    if infeed_type == \"sequential_batches\":\n",
    "\n",
    "        if batch_size is None:\n",
    "            raise RuntimeError(f\"batch_size must be specified\")\n",
    "\n",
    "        batches_queue = deque(sequences[(recipe_index, infeed_type, batch_size)])\n",
    "        next_batch = batches_queue.popleft()\n",
    "        batch_order.append(next_batch)\n",
    "\n",
    "        product_queue.extend([next_batch] * batch_size)\n",
    "\n",
    "    elif infeed_type == \"random_products\":\n",
    "\n",
    "        product_queue.extend(sequences[(recipe_index, infeed_type, None)])\n",
    "\n",
    "    else:\n",
    "        raise RuntimeError(f\"infeed_type {infeed_type} if unknown!\")\n",
    "\n",
    "    product_counter = 0\n",
    "    while product_counter < sample_size:\n",
    "\n",
    "        product = product_queue.popleft()\n",
    "        consumed = False\n",
    "        for i, lane in sorted(\n",
    "            lanes.items(),\n",
    "            key=partial(priority, product=product, boxes=boxes_per_lane),\n",
    "            reverse=True,\n",
    "        ):\n",
    "\n",
    "            # Lane is available to accept products\n",
    "            lane_is_available = lane[\"lock\"] == 0\n",
    "\n",
    "            # Lane has space to accept product\n",
    "            product_fits = lane[product] < recipe[product]\n",
    "\n",
    "            # Complete cases for 3 binary variables\n",
    "            if not consumed and lane_is_available and product_fits:\n",
    "                lane[product] += 1\n",
    "                consumed = True\n",
    "\n",
    "            elif not consumed and lane_is_available and not product_fits:\n",
    "                continue\n",
    "\n",
    "            elif not consumed and not lane_is_available and product_fits:\n",
    "                lane[\"lock\"] -= 1\n",
    "\n",
    "            elif not consumed and not lane_is_available and not product_fits:\n",
    "                lane[\"lock\"] -= 1\n",
    "\n",
    "            elif consumed and lane_is_available and product_fits:\n",
    "                continue\n",
    "\n",
    "            elif consumed and lane_is_available and not product_fits:\n",
    "                continue\n",
    "\n",
    "            elif consumed and not lane_is_available and product_fits:\n",
    "                lane[\"lock\"] -= 1\n",
    "\n",
    "            elif consumed and not lane_is_available and not product_fits:\n",
    "                lane[\"lock\"] -= 1\n",
    "\n",
    "        # recirculation un-consumed products\n",
    "        if not consumed:\n",
    "            recirculation.append(product)\n",
    "\n",
    "        # Lane is ready to be boxed\n",
    "        for j in lanes:\n",
    "            boxes_per_lane_per_frame[j].append(0)\n",
    "            if all(lanes[j][p] == recipe[p] for p in products):\n",
    "                lanes[j] = {p: 0 for p in products + [\"lock\"]}\n",
    "                lanes[j][\"lock\"] = lane_lock\n",
    "                boxes_per_lane[j] += 1\n",
    "                boxes_per_lane_per_frame[j][product_counter] = 1\n",
    "\n",
    "        # continue onto the next product\n",
    "        product_counter += 1\n",
    "\n",
    "        # check if the queue is empty\n",
    "        if (\n",
    "            len(product_queue) == 0\n",
    "            and infeed_type == \"sequential_batches\"\n",
    "            and product_counter < sample_size\n",
    "        ):\n",
    "            next_batch = batches_queue.popleft()\n",
    "            batch_order.append(next_batch)\n",
    "            product_queue.extend([next_batch] * batch_size)\n",
    "\n",
    "    return {\n",
    "        \"recirculation\": len(recirculation),\n",
    "        \"sample_size\": sample_size,\n",
    "        \"box_products\": sum(recipe.values()) * sum(boxes_per_lane.values()),\n",
    "        \"unbox_products\": sample_size\n",
    "        - len(recirculation)\n",
    "        - sum(recipe.values()) * sum(boxes_per_lane.values()),\n",
    "        \"boxes_per_lane\": boxes_per_lane,\n",
    "        \"boxes\": sum(boxes_per_lane.values()),\n",
    "        \"boxes_per_lane_per_frame\": boxes_per_lane_per_frame,\n",
    "        \"batch_order\": batch_order,\n",
    "    }"
   ]
  },
  {
   "cell_type": "code",
   "execution_count": 73,
   "id": "32b9f958",
   "metadata": {},
   "outputs": [
    {
     "name": "stdout",
     "output_type": "stream",
     "text": [
      "121 ms ± 599 µs per loop (mean ± std. dev. of 7 runs, 10 loops each)\n"
     ]
    }
   ],
   "source": [
    "%timeit simulate(5, \"random_products\", 0)"
   ]
  },
  {
   "cell_type": "code",
   "execution_count": null,
   "id": "87dae888",
   "metadata": {},
   "outputs": [],
   "source": []
  },
  {
   "cell_type": "code",
   "execution_count": null,
   "id": "2e461837",
   "metadata": {
    "scrolled": true
   },
   "outputs": [],
   "source": [
    "out = simulate(5, \"random_products\", 0)\n",
    "out.pop(\"boxes_per_lane_per_frame\")\n",
    "out"
   ]
  },
  {
   "cell_type": "code",
   "execution_count": null,
   "id": "ac560cd0",
   "metadata": {},
   "outputs": [],
   "source": [
    "out = simulate(5, \"sequential_batches\", 0, batch_size=50)\n",
    "out.pop(\"boxes_per_lane_per_frame\")\n",
    "batch_counts = Counter(out.pop(\"batch_order\"))\n",
    "print({k: round(value / min(batch_counts.values()), 2) for k, value in sorted(batch_counts.items())})\n",
    "print({k: round(value / min(recipes[0].values()), 2) for k, value in sorted(recipes[0].items())})\n",
    "out"
   ]
  },
  {
   "cell_type": "code",
   "execution_count": null,
   "id": "14473219",
   "metadata": {
    "scrolled": true
   },
   "outputs": [],
   "source": [
    "def get_the_ys(xx, infeed_type, recipe_index, batch_size=None):\n",
    "    data = Parallel(n_jobs=4)(\n",
    "        delayed(simulate)(x, infeed_type, recipe_index, batch_size=batch_size)\n",
    "        for x in xx\n",
    "    )\n",
    "    return [d[\"box_products\"] / d[\"sample_size\"] for d in data]"
   ]
  },
  {
   "cell_type": "code",
   "execution_count": null,
   "id": "2cd3dfd4",
   "metadata": {
    "scrolled": false
   },
   "outputs": [],
   "source": [
    "import matplotlib.pyplot as plt\n",
    "import matplotlib.colors as mcolors\n",
    "\n",
    "fig, axs = plt.subplots(\n",
    "    len(recipes), figsize=(16, 9 * len(recipes)), constrained_layout=True\n",
    ")\n",
    "\n",
    "fig.suptitle(\"Lane Production Analysis\")\n",
    "\n",
    "color_map = defaultdict(lambda: \"k\")\n",
    "for batch_size, color in zip(batch_sizes, mcolors.BASE_COLORS.keys()):\n",
    "    color_map[batch_size] = color\n",
    "\n",
    "line_type_map = defaultdict(lambda: \"-\")\n",
    "\n",
    "xx = list(range(1, 17))\n",
    "\n",
    "for (recipe_index, infeed_type, batch_size) in sequences.keys():\n",
    "    color = color_map[batch_size]\n",
    "    line_type = line_type_map[infeed_type]\n",
    "\n",
    "    if infeed_type in [\"random_products\", \"sequential_batches\"]:\n",
    "        yy = get_the_ys(xx, infeed_type, recipe_index, batch_size)\n",
    "        axs[recipe_index].plot(\n",
    "            xx,\n",
    "            yy,\n",
    "            f\"{line_type}{color}\",\n",
    "            marker=\"*\",\n",
    "            label=f\"{infeed_type} {batch_size} {priority.__name__}\",\n",
    "        )\n",
    "\n",
    "for recipe_index, recipe in enumerate(recipes):\n",
    "    zz = np.ones(len(xx)) * 0.95\n",
    "    axs[recipe_index].plot(xx, zz, f\":k\", label=f\"Target consumption\")\n",
    "    axs[recipe_index].set_xticks(xx)\n",
    "    axs[recipe_index].legend()\n",
    "    axs[recipe_index].set_title(f\"Simulation recipe: {recipe}\")\n",
    "    axs[recipe_index].set_xlabel(\"Num of lanes\")\n",
    "    axs[recipe_index].set_ylabel(\"Consume proportion\")\n",
    "\n",
    "plt.show()"
   ]
  },
  {
   "cell_type": "code",
   "execution_count": null,
   "id": "325ecab2",
   "metadata": {},
   "outputs": [],
   "source": [
    "batch_size = 50\n",
    "num_of_lanes = 5"
   ]
  },
  {
   "cell_type": "code",
   "execution_count": null,
   "id": "21603863",
   "metadata": {},
   "outputs": [],
   "source": [
    "def create_subplot(recipe_index, infeed_type, batch_size=None):\n",
    "    data = simulate(num_of_lanes, infeed_type, recipe_index, batch_size=batch_size)\n",
    "\n",
    "    for lane, production in data[\"boxes_per_lane_per_frame\"].items():\n",
    "        arrays = np.array_split(\n",
    "            production, range(products_per_min, len(production), products_per_min)\n",
    "        )\n",
    "        y = [a.sum() for a in arrays]\n",
    "        axs[recipe_index].plot([0] + y, label=f\"Lane {lane}\")\n",
    "\n",
    "    # combine all lanes\n",
    "    x = np.array(list(data[\"boxes_per_lane_per_frame\"].values())).sum(axis=0)\n",
    "    arrays = np.array_split(x, range(products_per_min, len(x), products_per_min))\n",
    "    y = [a.sum() for a in arrays]\n",
    "    axs[recipe_index].plot([0] + y, label=f\"All lanes\")\n",
    "\n",
    "    # optimality lines\n",
    "    recipe = recipes[recipe_index]\n",
    "    optimal_boxes_per_min = products_per_min / sum(recipe.values())\n",
    "    optimal_boxes_per_min_per_lane = optimal_boxes_per_min / num_of_lanes\n",
    "    axs[recipe_index].plot(\n",
    "        [optimal_boxes_per_min] * (len(y) + 1), f\":k\", label=f\"optimal_boxes_per_min\"\n",
    "    )\n",
    "    axs[recipe_index].plot(\n",
    "        [optimal_boxes_per_min_per_lane] * (len(y) + 1),\n",
    "        f\"-.k\",\n",
    "        label=f\"optimal_boxes_per_min\",\n",
    "    )\n",
    "    axs[recipe_index].legend()\n",
    "    axs[recipe_index].set_title(f\"Simulation recipe: {recipe}\")\n",
    "    axs[recipe_index].set_xlabel(\"Minutes\")\n",
    "    axs[recipe_index].set_ylabel(\"Boxes produced\")"
   ]
  },
  {
   "cell_type": "code",
   "execution_count": null,
   "id": "75cae2b1",
   "metadata": {},
   "outputs": [],
   "source": [
    "fig, axs = plt.subplots(\n",
    "    len(recipes), figsize=(16, 9 * len(recipes)), constrained_layout=True\n",
    ")\n",
    "\n",
    "fig.suptitle(\"Boxes Per Min Analysis with Randomized Infeed\")\n",
    "\n",
    "for recipe_index, recipe in enumerate(recipes):\n",
    "    create_subplot(recipe_index, \"random_products\")\n",
    "\n",
    "plt.show()"
   ]
  },
  {
   "cell_type": "code",
   "execution_count": null,
   "id": "87a46497",
   "metadata": {},
   "outputs": [],
   "source": [
    "fig, axs = plt.subplots(\n",
    "    len(recipes), figsize=(16, 9 * len(recipes)), constrained_layout=True\n",
    ")\n",
    "\n",
    "fig.suptitle(\"Boxes Per Min Analysis with Sequential Infeed\")\n",
    "\n",
    "for recipe_index, recipe in enumerate(recipes):\n",
    "    create_subplot(recipe_index, \"sequential_batches\", batch_size=batch_size)\n",
    "\n",
    "plt.show()"
   ]
  },
  {
   "cell_type": "code",
   "execution_count": null,
   "id": "c7c86290",
   "metadata": {},
   "outputs": [],
   "source": [
    "def avg_consumption_rate(x_num_of_lanes, y_lane_lock, infeed_type, batch_size=None):\n",
    "    x, y = np.meshgrid(x_num_of_lanes, y_lane_lock)\n",
    "\n",
    "    I, J = y.shape\n",
    "\n",
    "    data = []\n",
    "    \n",
    "    for recipe_index in range(len(recipes)):\n",
    "        z_arrays = []\n",
    "\n",
    "        for i in range(I):\n",
    "            global lane_lock\n",
    "            lane_lock = y[i, 0]\n",
    "            z_arrays.append(get_the_ys(x[i, :], infeed_type, recipe_index, batch_size=batch_size))\n",
    "\n",
    "        data.append(np.array(z_arrays))\n",
    "\n",
    "    tensor = np.array(data)\n",
    "    \n",
    "    return tensor.mean(axis=0)"
   ]
  },
  {
   "cell_type": "code",
   "execution_count": null,
   "id": "d7bd0bc3",
   "metadata": {},
   "outputs": [],
   "source": [
    "plt.figure(figsize=(16, 9))\n",
    "\n",
    "x_num_of_lanes = list(range(1, 11))\n",
    "# x_num_of_lanes = list(range(1, 6))\n",
    "y_lane_lock = list(range(20, 100, 5)) + list(range(100, 400, 50))\n",
    "# y_lane_lock = list(range(20, 100, 20))\n",
    "z_avg_consumption_rate = avg_consumption_rate(x_num_of_lanes, y_lane_lock, \"random_products\") \n",
    "\n",
    "plt.contourf(x_num_of_lanes, y_lane_lock, z_avg_consumption_rate, vmin=0, vmax=1)\n",
    "plt.colorbar(label=\"Avg. Consumption Rate\")\n",
    "\n",
    "plt.title(f\"Random Infeed: avg. consumption rate vs num of lanes and lane lock\")\n",
    "plt.ylabel(\"Lane lock (frames)\")\n",
    "plt.xlabel(\"Number of Lanes\")\n",
    "\n",
    "plt.show()"
   ]
  },
  {
   "cell_type": "code",
   "execution_count": null,
   "id": "fb392da3",
   "metadata": {},
   "outputs": [],
   "source": [
    "plt.figure(figsize=(16, 9))\n",
    "\n",
    "x_num_of_lanes = list(range(1, 11))\n",
    "# x_num_of_lanes = list(range(1, 6))\n",
    "y_lane_lock = list(range(20, 100, 5)) + list(range(100, 400, 50))\n",
    "# y_lane_lock = list(range(20, 100, 20))\n",
    "z_avg_consumption_rate = avg_consumption_rate(x_num_of_lanes, y_lane_lock, \"sequential_batches\", 50) \n",
    "\n",
    "plt.contourf(x_num_of_lanes, y_lane_lock, z_avg_consumption_rate, vmin=0, vmax=1)\n",
    "plt.colorbar(label=\"Avg. Consumption Rate\")\n",
    "\n",
    "plt.title(f\"Sequential Infeed: avg. consumption rate vs num of lanes and lane lock\")\n",
    "plt.ylabel(\"Lane lock (frames)\")\n",
    "plt.xlabel(\"Number of Lanes\")\n",
    "\n",
    "plt.show()"
   ]
  },
  {
   "cell_type": "code",
   "execution_count": null,
   "id": "1e4fab1c",
   "metadata": {},
   "outputs": [],
   "source": [
    "# reset global variable\n",
    "lane_lock = 25"
   ]
  },
  {
   "cell_type": "code",
   "execution_count": null,
   "id": "f562d0be",
   "metadata": {},
   "outputs": [],
   "source": [
    "import string\n",
    "\n",
    "\n",
    "def generate_random_recipes(\n",
    "    num_of_recipes, min_num_of_products, max_num_of_products, lower, upper\n",
    "):\n",
    "    recipes = []\n",
    "    for r in range(num_of_recipes):\n",
    "        recipe = {}\n",
    "\n",
    "        for product in string.ascii_uppercase[\n",
    "            : np.random.randint(min_num_of_products, high=max_num_of_products)\n",
    "        ]:\n",
    "            recipe[product] = np.random.randint(lower, high=upper)\n",
    "\n",
    "        recipes.append(recipe)\n",
    "\n",
    "    return recipes"
   ]
  },
  {
   "cell_type": "code",
   "execution_count": null,
   "id": "65c82af2",
   "metadata": {},
   "outputs": [],
   "source": [
    "recipes = generate_random_recipes(60, 3, 6, 2, 16)\n",
    "recipes"
   ]
  },
  {
   "cell_type": "code",
   "execution_count": null,
   "id": "aa27cb17",
   "metadata": {},
   "outputs": [],
   "source": [
    "sequences = create_infeed_types()"
   ]
  },
  {
   "cell_type": "code",
   "execution_count": null,
   "id": "0d48d1d1",
   "metadata": {},
   "outputs": [],
   "source": [
    "plt.figure(figsize=(16, 9))\n",
    "\n",
    "xx = list(range(1, 11))\n",
    "arrays = []\n",
    "for recipe_index, recipe in enumerate(recipes):\n",
    "    yy = get_the_ys(xx, \"random_products\", recipe_index)\n",
    "    arrays.append(yy)\n",
    "    plt.plot(xx, yy, marker=\"*\", label=f\"Recipe: {recipe}\")\n",
    "\n",
    "target_consumption = 0.95\n",
    "zz = np.ones(len(xx)) * target_consumption\n",
    "plt.plot(xx, zz, f\":k\", label=f\"Target consumption\")\n",
    "\n",
    "plt.xticks(xx)\n",
    "plt.legend(bbox_to_anchor=(1.05, 1.0), loc=\"upper left\")\n",
    "\n",
    "plt.title(f\"Random Infeed System with Target consumption {target_consumption}\")\n",
    "plt.xlabel(\"Num of lanes\")\n",
    "plt.ylabel(\"Consume proportion\")\n",
    "\n",
    "plt.show()"
   ]
  },
  {
   "cell_type": "code",
   "execution_count": null,
   "id": "796c186c",
   "metadata": {},
   "outputs": [],
   "source": [
    "plt.figure(figsize=(16, 9))\n",
    "\n",
    "plt.boxplot(np.array(arrays))\n",
    "\n",
    "zz = np.ones(len(xx)) * target_consumption\n",
    "plt.plot(xx, zz, \":k\")\n",
    "\n",
    "plt.title(f\"Random Infeed System with Target consumption {target_consumption}\")\n",
    "plt.xlabel(\"Num of lanes\")\n",
    "plt.ylabel(\"Consume proportion\")\n",
    "\n",
    "plt.show()"
   ]
  },
  {
   "cell_type": "code",
   "execution_count": null,
   "id": "40f28b46",
   "metadata": {},
   "outputs": [],
   "source": []
  }
 ],
 "metadata": {
  "kernelspec": {
   "display_name": "Python 3 (ipykernel)",
   "language": "python",
   "name": "python3"
  },
  "language_info": {
   "codemirror_mode": {
    "name": "ipython",
    "version": 3
   },
   "file_extension": ".py",
   "mimetype": "text/x-python",
   "name": "python",
   "nbconvert_exporter": "python",
   "pygments_lexer": "ipython3",
   "version": "3.8.10"
  }
 },
 "nbformat": 4,
 "nbformat_minor": 5
}

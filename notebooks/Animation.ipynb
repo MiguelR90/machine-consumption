{
 "cells": [
  {
   "cell_type": "code",
   "execution_count": 1,
   "id": "3d334b65",
   "metadata": {},
   "outputs": [],
   "source": [
    "import numpy as np\n",
    "\n",
    "import copy\n",
    "\n",
    "from collections import Counter, defaultdict\n",
    "from itertools import chain, cycle\n",
    "from functools import partial"
   ]
  },
  {
   "cell_type": "code",
   "execution_count": 2,
   "id": "29ff4e5f",
   "metadata": {},
   "outputs": [],
   "source": [
    "sample_size = 5000\n",
    "products = [\"A\", \"B\", \"C\", \"D\"]\n",
    "totals = [10, 5, 15, 8]\n",
    "# totals = [10, 10, 10, 10]\n",
    "flush_lock = 21\n",
    "transition_lock = 3"
   ]
  },
  {
   "cell_type": "code",
   "execution_count": 3,
   "id": "5cb0e843",
   "metadata": {},
   "outputs": [],
   "source": [
    "def generate_batches(batch_size, products, totals, sample_size):\n",
    "    sizes = (np.ceil(np.array(totals) / np.min(totals)) * batch_size).astype(int).tolist()\n",
    "    iterators = [[product]*size for product, size in zip(products, sizes)]\n",
    "    base = cycle(chain(*iterators))\n",
    "    return list(dict(zip(range(sample_size), base)).values())"
   ]
  },
  {
   "cell_type": "code",
   "execution_count": 4,
   "id": "60f1ac86",
   "metadata": {
    "scrolled": true
   },
   "outputs": [],
   "source": [
    "# sequence 1\n",
    "denominator = sum(totals)\n",
    "sequence1 = np.random.choice(products, size=sample_size, p=[t/denominator for t in totals]).tolist()\n",
    "\n",
    "# sequence 2\n",
    "sequence2 = generate_batches(20, products, totals, sample_size)\n",
    "\n",
    "# sequence 3\n",
    "sequence3 = generate_batches(40, products, totals, sample_size)"
   ]
  },
  {
   "cell_type": "code",
   "execution_count": 5,
   "id": "e0ff80ce",
   "metadata": {},
   "outputs": [],
   "source": [
    "def no_priority(machine_tuple, product=None):\n",
    "    \n",
    "    if product is None:\n",
    "        raise RuntimeError(\"No product set\")\n",
    "    \n",
    "    return machine_tuple[0]\n",
    "\n",
    "def sum_of_product_priority(machine_tuple, product=None):\n",
    "    \n",
    "    if product is None:\n",
    "        raise RuntimeError(\"No product set\")\n",
    "    \n",
    "    return sum(machine_tuple[1].values())\n",
    "\n",
    "def product_count_priority(machine_tuple, product=None):\n",
    "    \n",
    "    if product is None:\n",
    "        raise RuntimeError(\"No product set\")\n",
    "    \n",
    "    return machine_tuple[1][product]\n",
    "\n",
    "def double_priority(machine_tuple, product=None):\n",
    "    \n",
    "    if product is None:\n",
    "        raise RuntimeError(\"No product set\")\n",
    "    \n",
    "    return (machine_tuple[1][product], sum(machine_tuple[1].values()))"
   ]
  },
  {
   "cell_type": "code",
   "execution_count": 6,
   "id": "59ed42dd",
   "metadata": {},
   "outputs": [],
   "source": [
    "def simulate(\n",
    "    num_of_machines,\n",
    "    sequence,\n",
    "    products,\n",
    "    totals,\n",
    "    flush_lock,\n",
    "    transition_lock,\n",
    "    priority,\n",
    "    reverse=True\n",
    "):\n",
    "\n",
    "    mix = dict(zip(products, totals))\n",
    "    machines = {i: {p: 0 for p in products + [\"lock\"]} for i in range(num_of_machines)}\n",
    "    flushes = {i: 0 for i in range(num_of_machines)}\n",
    "    trash = []\n",
    "    data = []\n",
    "\n",
    "    for product in sequence:\n",
    "\n",
    "        consumed = False\n",
    "        for i, mach in sorted(machines.items(), key=partial(priority, product=product), reverse=reverse):\n",
    "            \n",
    "            # Machine is available to accept products\n",
    "            machine_is_available = machines[i][\"lock\"] == 0\n",
    "            \n",
    "            # Machine has space to accept product\n",
    "            product_fits = machines[i][product] < mix[product]\n",
    "            \n",
    "            # Complete cases for 3 binary variables\n",
    "            if not consumed and machine_is_available and product_fits:\n",
    "                machines[i][product] += 1\n",
    "                machines[i][\"lock\"] = transition_lock\n",
    "                consumed = True\n",
    "            \n",
    "            elif not consumed and machine_is_available and not product_fits:\n",
    "                continue\n",
    "    \n",
    "            elif not consumed and not machine_is_available and product_fits:\n",
    "                machines[i][\"lock\"] -= 1\n",
    "    \n",
    "            elif not consumed and not machine_is_available and not product_fits:\n",
    "                machines[i][\"lock\"] -= 1\n",
    "    \n",
    "            elif consumed and machine_is_available and product_fits:\n",
    "                continue\n",
    "    \n",
    "            elif consumed and machine_is_available and not product_fits:\n",
    "                continue\n",
    "    \n",
    "            elif consumed and not machine_is_available and product_fits:\n",
    "                machines[i][\"lock\"] -= 1\n",
    "    \n",
    "            elif consumed and not machine_is_available and not product_fits:\n",
    "                machines[i][\"lock\"] -= 1\n",
    "                \n",
    "            \n",
    "        # Trash un-consumed products\n",
    "        if not consumed:\n",
    "            trash.append(product)\n",
    "\n",
    "        # Save the data\n",
    "        data.append(copy.deepcopy(machines))\n",
    "        \n",
    "        \n",
    "        # Flush ready machines\n",
    "        for j in machines:\n",
    "            if all(machines[j][p] == mix[p] for p in products):\n",
    "                machines[j] = {p: 0 for p in products + [\"lock\"]}\n",
    "                machines[j][\"lock\"] = flush_lock\n",
    "                flushes[j] += 1\n",
    "    \n",
    "    return ({\n",
    "        \"trash\": len(trash), \n",
    "        \"total\": len(sequence), \n",
    "        \"consumed\": len(sequence) - len(trash),\n",
    "        \"flushes\": flushes\n",
    "    }, data)"
   ]
  },
  {
   "cell_type": "code",
   "execution_count": 7,
   "id": "3593842d",
   "metadata": {
    "scrolled": false
   },
   "outputs": [
    {
     "name": "stdout",
     "output_type": "stream",
     "text": [
      "{'trash': 628, 'total': 5000, 'consumed': 4372, 'flushes': {0: 26, 1: 26, 2: 24, 3: 23, 4: 13}}\n",
      "{'trash': 561, 'total': 5000, 'consumed': 4439, 'flushes': {0: 28, 1: 28, 2: 27, 3: 27, 4: 4}}\n",
      "{'trash': 1862, 'total': 5000, 'consumed': 3138, 'flushes': {0: 17, 1: 17, 2: 16, 3: 16, 4: 14}}\n",
      "\n",
      "{'trash': 489, 'total': 5000, 'consumed': 4511, 'flushes': {0: 24, 1: 23, 2: 23, 3: 23, 4: 23}}\n",
      "{'trash': 257, 'total': 5000, 'consumed': 4743, 'flushes': {0: 25, 1: 25, 2: 25, 3: 24, 4: 24}}\n",
      "{'trash': 1765, 'total': 5000, 'consumed': 3235, 'flushes': {0: 17, 1: 17, 2: 17, 3: 17, 4: 16}}\n"
     ]
    }
   ],
   "source": [
    "print(simulate(5, sequence1, products, totals, flush_lock, transition_lock, no_priority, reverse=False)[0])\n",
    "print(simulate(5, sequence2, products, totals, flush_lock, transition_lock, no_priority, reverse=False)[0])\n",
    "print(simulate(5, sequence3, products, totals, flush_lock, transition_lock, no_priority, reverse=False)[0])\n",
    "print()\n",
    "print(simulate(5, sequence1, products, totals, flush_lock, transition_lock, double_priority, reverse=True)[0])\n",
    "print(simulate(5, sequence2, products, totals, flush_lock, transition_lock, double_priority, reverse=True)[0])\n",
    "print(simulate(5, sequence3, products, totals, flush_lock, transition_lock, double_priority, reverse=True)[0])"
   ]
  },
  {
   "cell_type": "code",
   "execution_count": 8,
   "id": "b36bc978",
   "metadata": {},
   "outputs": [],
   "source": [
    "sim = simulate(9, sequence1, products, totals, flush_lock, transition_lock, double_priority, reverse=True)\n",
    "data = sim[1] "
   ]
  },
  {
   "cell_type": "code",
   "execution_count": 10,
   "id": "06f4f0fb",
   "metadata": {
    "scrolled": false
   },
   "outputs": [
    {
     "data": {
      "text/plain": [
       "{0: {'A': 0, 'B': 0, 'C': 1, 'D': 0, 'lock': 3},\n",
       " 1: {'A': 0, 'B': 0, 'C': 0, 'D': 0, 'lock': 0},\n",
       " 2: {'A': 0, 'B': 0, 'C': 0, 'D': 0, 'lock': 0},\n",
       " 3: {'A': 0, 'B': 0, 'C': 0, 'D': 0, 'lock': 0},\n",
       " 4: {'A': 0, 'B': 0, 'C': 0, 'D': 0, 'lock': 0},\n",
       " 5: {'A': 0, 'B': 0, 'C': 0, 'D': 0, 'lock': 0},\n",
       " 6: {'A': 0, 'B': 0, 'C': 0, 'D': 0, 'lock': 0},\n",
       " 7: {'A': 0, 'B': 0, 'C': 0, 'D': 0, 'lock': 0},\n",
       " 8: {'A': 0, 'B': 0, 'C': 0, 'D': 0, 'lock': 0}}"
      ]
     },
     "execution_count": 10,
     "metadata": {},
     "output_type": "execute_result"
    }
   ],
   "source": [
    "data[0]"
   ]
  },
  {
   "cell_type": "code",
   "execution_count": null,
   "id": "26660729",
   "metadata": {},
   "outputs": [],
   "source": []
  },
  {
   "cell_type": "code",
   "execution_count": null,
   "id": "146748c1",
   "metadata": {},
   "outputs": [],
   "source": []
  },
  {
   "cell_type": "code",
   "execution_count": null,
   "id": "c060ec16",
   "metadata": {},
   "outputs": [],
   "source": []
  },
  {
   "cell_type": "code",
   "execution_count": null,
   "id": "e4ae2d89",
   "metadata": {},
   "outputs": [],
   "source": []
  },
  {
   "cell_type": "code",
   "execution_count": null,
   "id": "0b3357a2",
   "metadata": {},
   "outputs": [],
   "source": []
  },
  {
   "cell_type": "code",
   "execution_count": null,
   "id": "5c194591",
   "metadata": {},
   "outputs": [],
   "source": []
  },
  {
   "cell_type": "code",
   "execution_count": null,
   "id": "3184408c",
   "metadata": {},
   "outputs": [],
   "source": []
  },
  {
   "cell_type": "code",
   "execution_count": null,
   "id": "d0045b0e",
   "metadata": {},
   "outputs": [],
   "source": [
    "import matplotlib.pyplot as plt\n",
    "from matplotlib import animation\n",
    "import matplotlib.colors as mcolors\n",
    "\n",
    "COLORS = list(mcolors.TABLEAU_COLORS.keys())\n",
    "\n",
    "fig, axes = plt.subplots(3,3, figsize=(16, 9))\n",
    "\n",
    "fig.tight_layout(pad=3.0)\n",
    "\n",
    "n = len(data)\n",
    "\n",
    "axes = axes.ravel()\n",
    "\n",
    "bars = []\n",
    "for a, ax in enumerate(axes):\n",
    "    bar = ax.bar(data[0][a].keys(), data[0][a].values(), color=COLORS[:len(data[0][a])])\n",
    "    bars.append(bar)\n",
    "\n",
    "def annotate_axis(ax, bar, title=None, xlabel=None):\n",
    "    for r, rect in enumerate(bar[:-1]):\n",
    "        height = totals[r]\n",
    "        ax.annotate('{}'.format(height),\n",
    "            xy=(rect.get_x() + rect.get_width() / 2, height),\n",
    "            arrowprops=dict(facecolor='black', arrowstyle=\"simple\"),\n",
    "            xytext=(0, 15),\n",
    "            textcoords=\"offset points\",\n",
    "            ha='center',\n",
    "            va='bottom'\n",
    "        )\n",
    "        ax.set_title(title)\n",
    "        if xlabel:\n",
    "            ax.set_xlabel(\"Products\")\n",
    "\n",
    "for a, (ax, bar) in enumerate(zip(axes, bars)):\n",
    "    annotate_axis(ax, bar, title=f\"Machine {a}\", xlabel=False)\n",
    "\n",
    "for ax in axes:\n",
    "    ax.set_ylim(0, 21)\n",
    "\n",
    "def animate(i):\n",
    "    for machine, mix in data[i].items():\n",
    "        for i, b in enumerate(bars[machine]):\n",
    "            b.set_height(list(mix.values())[i])\n",
    "    \n",
    "ani = animation.FuncAnimation(fig, animate, repeat=False, blit=False,frames=n, interval=200)\n",
    "\n",
    "f = r\"animation.gif\" \n",
    "writergif = animation.PillowWriter(fps=15) \n",
    "ani.save(f, writer=writergif)\n",
    "\n",
    "# from IPython.display import HTML\n",
    "# display(HTML(ani.to_jshtml()))\n",
    "# plt.close()"
   ]
  },
  {
   "cell_type": "code",
   "execution_count": null,
   "id": "61d292a6",
   "metadata": {},
   "outputs": [],
   "source": []
  }
 ],
 "metadata": {
  "kernelspec": {
   "display_name": "Python 3 (ipykernel)",
   "language": "python",
   "name": "python3"
  },
  "language_info": {
   "codemirror_mode": {
    "name": "ipython",
    "version": 3
   },
   "file_extension": ".py",
   "mimetype": "text/x-python",
   "name": "python",
   "nbconvert_exporter": "python",
   "pygments_lexer": "ipython3",
   "version": "3.8.10"
  }
 },
 "nbformat": 4,
 "nbformat_minor": 5
}
